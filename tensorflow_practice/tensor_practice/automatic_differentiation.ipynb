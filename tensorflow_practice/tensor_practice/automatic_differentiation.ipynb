{
 "cells": [
  {
   "cell_type": "code",
   "execution_count": 1,
   "id": "inside-cursor",
   "metadata": {},
   "outputs": [],
   "source": [
    "import tensorflow as tf\n",
    "import matplotlib.pyplot as plt"
   ]
  },
  {
   "cell_type": "code",
   "execution_count": 2,
   "id": "democratic-ceiling",
   "metadata": {},
   "outputs": [
    {
     "data": {
      "text/plain": [
       "[<matplotlib.lines.Line2D at 0x17cc8b130>]"
      ]
     },
     "execution_count": 2,
     "metadata": {},
     "output_type": "execute_result"
    },
    {
     "data": {
      "image/png": "[encoded data removed]",
      "text/plain": [
       "<Figure size 432x288 with 1 Axes>"
      ]
     },
     "metadata": {
      "needs_background": "light"
     },
     "output_type": "display_data"
    }
   ],
   "source": [
    "g = tf.random.Generator.from_seed(500)\n",
    "X = g.normal(shape=(10,))\n",
    "\n",
    "Y = 3 * (X) - 2\n",
    "plt.plot(X, Y)"
   ]
  },
  {
   "cell_type": "code",
   "execution_count": 3,
   "id": "french-luxembourg",
   "metadata": {},
   "outputs": [],
   "source": [
    "def call_mse(X, Y, a, b):\n",
    "    Y_pred = a * X + b\n",
    "    squared_error = (Y_pred - Y) ** 2\n",
    "    mean_squared_error = tf.reduce_mean(squared_error)\n",
    "    \n",
    "    return mean_squared_error"
   ]
  },
  {
   "cell_type": "code",
   "execution_count": 4,
   "id": "third-counter",
   "metadata": {},
   "outputs": [
    {
     "name": "stdout",
     "output_type": "stream",
     "text": [
      "EPOCH 20 - MSE 0.2057 -- a: 2.44, b: -2.14\n",
      "EPOCH 40 - MSE 0.0238 -- a: 2.81, b: -2.12\n",
      "EPOCH 60 - MSE 0.0042 -- a: 2.92, b: -2.06\n",
      "EPOCH 80 - MSE 0.0008 -- a: 2.97, b: -2.02\n",
      "EPOCH 100 - MSE 0.0001 -- a: 2.99, b: -2.01\n",
      "EPOCH 120 - MSE 0.0000 -- a: 2.99, b: -2.00\n",
      "EPOCH 140 - MSE 0.0000 -- a: 3.00, b: -2.00\n",
      "EPOCH 160 - MSE 0.0000 -- a: 3.00, b: -2.00\n",
      "EPOCH 180 - MSE 0.0000 -- a: 3.00, b: -2.00\n",
      "EPOCH 200 - MSE 0.0000 -- a: 3.00, b: -2.00\n"
     ]
    }
   ],
   "source": [
    "a = tf.Variable(0.0)\n",
    "b = tf.Variable(0.0)\n",
    "\n",
    "# num of training\n",
    "EPOCHS = 200\n",
    "\n",
    "for epoch in range(1, EPOCHS + 1):\n",
    "    # By default, the resources held by a GradientTape are released as soon as GradientTape.gradient() method is called. \n",
    "    # To compute multiple gradients over the same computation, create a persistent gradient tape. \n",
    "    # This allows multiple calls to the gradient() method as resources are released when the tape object is garbage collected.\n",
    "    with tf.GradientTape() as tape:\n",
    "        # only record below calculation\n",
    "        # use 'with' to scope record range\n",
    "        mse = call_mse(X, Y, a, b)\n",
    "    grad = tape.gradient(mse, {'a': a, 'b': b})\n",
    "    d_a, d_b = grad['a'], grad['b']\n",
    "    \n",
    "    a.assign_sub(d_a * 0.05)\n",
    "    b.assign_sub(d_b * 0.05)\n",
    "    \n",
    "    if epoch % 20 == 0:\n",
    "        print('EPOCH %d - MSE %.4f -- a: %.2f, b: %.2f' %(epoch, mse, a, b))"
   ]
  },
  {
   "cell_type": "code",
   "execution_count": null,
   "id": "fourth-cleaner",
   "metadata": {},
   "outputs": [],
   "source": []
  }
 ],
 "metadata": {
  "kernelspec": {
   "display_name": "Python 3",
   "language": "python",
   "name": "python3"
  },
  "language_info": {
   "codemirror_mode": {
    "name": "ipython",
    "version": 3
   },
   "file_extension": ".py",
   "mimetype": "text/x-python",
   "name": "python",
   "nbconvert_exporter": "python",
   "pygments_lexer": "ipython3",
   "version": "3.8.5"
  }
 },
 "nbformat": 4,
 "nbformat_minor": 5
}
