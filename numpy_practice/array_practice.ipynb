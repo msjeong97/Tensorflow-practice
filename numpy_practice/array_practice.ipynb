{
 "cells": [
  {
   "cell_type": "code",
   "execution_count": 3,
   "id": "labeled-hungary",
   "metadata": {},
   "outputs": [
    {
     "name": "stdout",
     "output_type": "stream",
     "text": [
      "array([[1., 2., 3.],\n",
      "       [4., 5., 6.]], dtype=float32)\n"
     ]
    }
   ],
   "source": [
    "import numpy as np\n",
    "\n",
    "# generater numpy array\n",
    "arr = [[1, 2, 3], [4, 5, 6]]\n",
    "nparr = np.array(arr, dtype=np.float32)\n",
    "\n",
    "print(repr(nparr))"
   ]
  },
  {
   "cell_type": "code",
   "execution_count": 4,
   "id": "clean-zambia",
   "metadata": {},
   "outputs": [
    {
     "name": "stdout",
     "output_type": "stream",
     "text": [
      "[[1. 2. 3.]\n",
      " [4. 5. 6.]]\n",
      "[[100.   2.   3.]\n",
      " [  4.   5.   6.]]\n",
      "[[100.   2.   3.]\n",
      " [  4.   5.   6.]]\n",
      "[[100.   2.   3.]\n",
      " [  4.   5.   6.]]\n"
     ]
    }
   ],
   "source": [
    "# call by reference\n",
    "nparr1 = nparr\n",
    "print(nparr1)\n",
    "\n",
    "nparr[0][0] = 100\n",
    "print(nparr1)\n",
    "\n",
    "# call by value - by copy()\n",
    "nparr2 = nparr.copy()\n",
    "print(nparr2)\n",
    "\n",
    "nparr[0][0] = 1\n",
    "print(nparr2)"
   ]
  },
  {
   "cell_type": "code",
   "execution_count": 5,
   "id": "boring-complaint",
   "metadata": {},
   "outputs": [
    {
     "name": "stdout",
     "output_type": "stream",
     "text": [
      "array([-1.,  0.,  1.,  2.,  3.,  4.,  5.])\n"
     ]
    }
   ],
   "source": [
    "arr = np.arange(-1, 5.5)\n",
    "print(repr(arr))"
   ]
  },
  {
   "cell_type": "code",
   "execution_count": 6,
   "id": "injured-updating",
   "metadata": {},
   "outputs": [
    {
     "name": "stdout",
     "output_type": "stream",
     "text": [
      "array([0, 1, 2, 3, 4, 5, 6, 7])\n",
      "array([[0, 1, 2, 3],\n",
      "       [4, 5, 6, 7]])\n"
     ]
    }
   ],
   "source": [
    "# reshaping arr\n",
    "arr = np.arange(8)\n",
    "print(repr(arr))\n",
    "\n",
    "reshaped_arr = np.reshape(arr, (2, 4))\n",
    "print(repr(reshaped_arr))"
   ]
  },
  {
   "cell_type": "code",
   "execution_count": 7,
   "id": "fourth-quarter",
   "metadata": {},
   "outputs": [
    {
     "name": "stdout",
     "output_type": "stream",
     "text": [
      "array([0, 1, 2, 3, 4, 5, 6, 7])\n",
      "array([[[0, 1],\n",
      "        [2, 3]],\n",
      "\n",
      "       [[4, 5],\n",
      "        [6, 7]]])\n"
     ]
    }
   ],
   "source": [
    "# reshaping arr\n",
    "arr = np.arange(8)\n",
    "print(repr(arr))\n",
    "\n",
    "reshaped_arr = np.reshape(arr, (2, 2, 2))\n",
    "print(repr(reshaped_arr))"
   ]
  },
  {
   "cell_type": "code",
   "execution_count": 8,
   "id": "confused-exchange",
   "metadata": {},
   "outputs": [
    {
     "name": "stdout",
     "output_type": "stream",
     "text": [
      "array([ 0,  1,  2,  3,  4,  5,  6,  7,  8,  9, 10, 11, 12, 13, 14, 15])\n",
      "array([[[ 0,  1,  2,  3],\n",
      "        [ 4,  5,  6,  7]],\n",
      "\n",
      "       [[ 8,  9, 10, 11],\n",
      "        [12, 13, 14, 15]]])\n"
     ]
    }
   ],
   "source": [
    "# reshaping arr\n",
    "arr = np.arange(16)\n",
    "print(repr(arr))\n",
    "\n",
    "# -1 : 16/(2*2)\n",
    "reshaped_arr = np.reshape(arr, (2, 2, -1))\n",
    "print(repr(reshaped_arr))"
   ]
  },
  {
   "cell_type": "code",
   "execution_count": 9,
   "id": "shared-graphic",
   "metadata": {},
   "outputs": [
    {
     "name": "stdout",
     "output_type": "stream",
     "text": [
      "array([[0, 1],\n",
      "       [2, 3]])\n",
      "arr shape: (2, 2)\n",
      "array([[0, 2],\n",
      "       [1, 3]])\n",
      "transposed shape: (2, 2)\n"
     ]
    }
   ],
   "source": [
    "# matrix transpose\n",
    "arr = np.arange(4)\n",
    "arr = np.reshape(arr, (2, 2))\n",
    "transposed = np.transpose(arr)\n",
    "print(repr(arr))\n",
    "print('arr shape: {}'.format(arr.shape))\n",
    "print(repr(transposed))\n",
    "print('transposed shape: {}'.format(transposed.shape))"
   ]
  },
  {
   "cell_type": "code",
   "execution_count": 10,
   "id": "infrared-collar",
   "metadata": {},
   "outputs": [
    {
     "name": "stdout",
     "output_type": "stream",
     "text": [
      "array([[[ 0,  1],\n",
      "        [ 2,  3],\n",
      "        [ 4,  5],\n",
      "        [ 6,  7]],\n",
      "\n",
      "       [[ 8,  9],\n",
      "        [10, 11],\n",
      "        [12, 13],\n",
      "        [14, 15]],\n",
      "\n",
      "       [[16, 17],\n",
      "        [18, 19],\n",
      "        [20, 21],\n",
      "        [22, 23]]])\n",
      "arr shape: (3, 4, 2)\n",
      "\n",
      "array([[[ 0,  8, 16],\n",
      "        [ 1,  9, 17]],\n",
      "\n",
      "       [[ 2, 10, 18],\n",
      "        [ 3, 11, 19]],\n",
      "\n",
      "       [[ 4, 12, 20],\n",
      "        [ 5, 13, 21]],\n",
      "\n",
      "       [[ 6, 14, 22],\n",
      "        [ 7, 15, 23]]])\n",
      "transposed shape: (4, 2, 3)\n"
     ]
    }
   ],
   "source": [
    "# axes\n",
    "arr = np.arange(24)\n",
    "arr = np.reshape(arr, (3, 4, 2))\n",
    "transposed = np.transpose(arr, axes=(1, 2, 0))\n",
    "print(repr(arr))\n",
    "print('arr shape: {}'.format(arr.shape))\n",
    "print('')\n",
    "print(repr(transposed))\n",
    "print('transposed shape: {}'.format(transposed.shape))\n",
    "\n"
   ]
  },
  {
   "cell_type": "code",
   "execution_count": 11,
   "id": "distributed-greene",
   "metadata": {},
   "outputs": [
    {
     "name": "stdout",
     "output_type": "stream",
     "text": [
      "array([0., 0., 0., 0.])\n",
      "array([[1., 1., 1.],\n",
      "       [1., 1., 1.]])\n",
      "array([[1, 1, 1],\n",
      "       [1, 1, 1]], dtype=int32)\n"
     ]
    }
   ],
   "source": [
    "arr = np.zeros(4)\n",
    "print(repr(arr))\n",
    "\n",
    "arr = np.ones((2, 3))\n",
    "print(repr(arr))\n",
    "\n",
    "arr = np.ones((2, 3), dtype=np.int32)\n",
    "print(repr(arr))"
   ]
  },
  {
   "cell_type": "code",
   "execution_count": 12,
   "id": "biblical-suggestion",
   "metadata": {},
   "outputs": [
    {
     "name": "stdout",
     "output_type": "stream",
     "text": [
      "array([[0, 0],\n",
      "       [0, 0]])\n"
     ]
    }
   ],
   "source": [
    "arr = np.array([[1, 2], [3, 4]])\n",
    "arr = np.zeros_like(arr)\n",
    "print(repr(arr))"
   ]
  },
  {
   "cell_type": "code",
   "execution_count": null,
   "id": "bacterial-process",
   "metadata": {},
   "outputs": [],
   "source": []
  },
  {
   "cell_type": "code",
   "execution_count": null,
   "id": "oriental-vegetarian",
   "metadata": {},
   "outputs": [],
   "source": []
  }
 ],
 "metadata": {
  "kernelspec": {
   "display_name": "Python 3",
   "language": "python",
   "name": "python3"
  },
  "language_info": {
   "codemirror_mode": {
    "name": "ipython",
    "version": 3
   },
   "file_extension": ".py",
   "mimetype": "text/x-python",
   "name": "python",
   "nbconvert_exporter": "python",
   "pygments_lexer": "ipython3",
   "version": "3.8.5"
  }
 },
 "nbformat": 4,
 "nbformat_minor": 5
}
